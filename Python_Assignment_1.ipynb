{
 "cells": [
  {
   "cell_type": "markdown",
   "id": "36848a96-231c-48ba-b70e-0651510d00fb",
   "metadata": {},
   "source": [
    "**Python Assignment-1**\n",
    "\n",
    "**1. Simple Message: Store a message in a variable, and then print that message**"
   ]
  },
  {
   "cell_type": "code",
   "execution_count": 1,
   "id": "34d02b21-9105-42a1-8cae-30a5c426be9c",
   "metadata": {},
   "outputs": [
    {
     "name": "stdout",
     "output_type": "stream",
     "text": [
      "This is my First Python Assignment - Batch 114\n"
     ]
    }
   ],
   "source": [
    "msg = \"This is my First Python Assignment - Batch 114\"\n",
    "print(msg)"
   ]
  },
  {
   "cell_type": "markdown",
   "id": "823c6594-fbbc-4a38-a3d9-326d6cd7f29a",
   "metadata": {},
   "source": [
    "**2. Store a message in a variable and print that message. Then change the value of your variable to a new message and print the new message.**"
   ]
  },
  {
   "cell_type": "code",
   "execution_count": 4,
   "id": "a8c7ee28-2cad-4de1-9e72-0064e571fe0b",
   "metadata": {},
   "outputs": [
    {
     "name": "stdout",
     "output_type": "stream",
     "text": [
      "Hello! Welcome to Learning Python\n",
      "Hurray!, You are learning Python\n"
     ]
    }
   ],
   "source": [
    "msg_1 = \"Hello! Welcome to Learning Python\"\n",
    "print(msg_1)\n",
    "msg_1 = \"Hurray!, You are learning Python\"\n",
    "print(msg_1)"
   ]
  },
  {
   "cell_type": "markdown",
   "id": "6a29bfb2-321b-4e8b-8065-f8613812f454",
   "metadata": {},
   "source": [
    "**3. Store a person’s name in a variable and print a message to that person.Your message should be simple, such as, \n",
    "“Hello Eric, would you like to learn some Python today?”**"
   ]
  },
  {
   "cell_type": "code",
   "execution_count": 7,
   "id": "161aed90-93d3-4c45-9b30-daebe25ec728",
   "metadata": {},
   "outputs": [
    {
     "name": "stdout",
     "output_type": "stream",
     "text": [
      "Hello Eric, would you like to learn some Python today?\n"
     ]
    }
   ],
   "source": [
    "name = \"Eric\"\n",
    "msg_2 = \"Hello \" + name + \", would you like to learn some Python today?\"\n",
    "print(msg_2)"
   ]
  },
  {
   "cell_type": "markdown",
   "id": "78d47108-b49b-4701-ab39-616a50bfd088",
   "metadata": {},
   "source": [
    "**4. Find a quote from a famous person you admire. Print the quote and the\n",
    "name of its author. Your output should look something like the following,\n",
    "including the quotation marks: Albert Einstein once said, “A person who\n",
    "never made a mistake never tried anything new.”**"
   ]
  },
  {
   "cell_type": "code",
   "execution_count": 54,
   "id": "11bd7394-f999-4ffd-9783-22ef7fc6ec94",
   "metadata": {},
   "outputs": [
    {
     "name": "stdout",
     "output_type": "stream",
     "text": [
      "Jesus said to me, \"My grace is sufficient for you, for my power is made perfect in weakness.\"\n",
      "Therefore I will boast all the more gladly about my weaknesses, so that Christ's power may rest on me.\n",
      "\n"
     ]
    }
   ],
   "source": [
    "print (\"Jesus said to me, \\\"My grace is sufficient for you, for my power is made perfect in weakness.\\\"\\n\" \"Therefore I will boast all the more gladly about my weaknesses, so that Christ's power may rest on me.\\n\")"
   ]
  },
  {
   "cell_type": "markdown",
   "id": "b1318ed0-7dd6-402f-aed6-d0706e8005e3",
   "metadata": {},
   "source": [
    "**5. Repeat Exercise 4, but this time store the famous person’s name in a variable called famous_person. Then compose your message and store it in a new variable called message. Print your message.**\n"
   ]
  },
  {
   "cell_type": "code",
   "execution_count": 60,
   "id": "e4ab1e68-55bf-4191-ac9f-1f3e05083e02",
   "metadata": {},
   "outputs": [
    {
     "name": "stdout",
     "output_type": "stream",
     "text": [
      "Jesus said to me , \"My grace is sufficient for you, for my power is made perfect in weakness.\"\n",
      "Therefore I will boast all the more gladly about my weaknesses, so that Christ's power may rest on me.\n"
     ]
    }
   ],
   "source": [
    "# This code shows How to print a string that contains quotes in python\n",
    "\n",
    "famous_person =\"Jesus\"\n",
    "message = famous_person + \" said to me , \\\"My grace is sufficient for you, for my power is made perfect in weakness.\\\"\\n\" \"Therefore I will boast all the more gladly about my weaknesses, so that Christ's power may rest on me.\"\n",
    "print(message)"
   ]
  },
  {
   "cell_type": "markdown",
   "id": "151db105-da32-4271-9b3a-558fcf52126b",
   "metadata": {},
   "source": [
    "**6. Write addition, subtraction, multiplication, and division operations that each result in the number 8. Be sure to enclose your operations in print statements to see the results. You should create four lines that look like this: print (5 + 3)\n",
    "Your output should simply be four lines with the number 8 appearing once on each line.**"
   ]
  },
  {
   "cell_type": "code",
   "execution_count": 65,
   "id": "eda5aa3c-82a1-414c-82aa-ceb9ad7e7072",
   "metadata": {},
   "outputs": [
    {
     "name": "stdout",
     "output_type": "stream",
     "text": [
      "8\n",
      "8\n",
      "8.0\n"
     ]
    }
   ],
   "source": [
    "# Developer: Shruthi Astakar Shekar\n",
    "# Date: 01/27/2025\n",
    "\n",
    "#Adds 2 numbers to give an output of 8\n",
    "print(5+3)\n",
    "\n",
    "#Subtracts 2 numbers to give an output of 8\n",
    "print(11-3)\n",
    "\n",
    "#Multliplies 2 numbers to give an output of 8\n",
    "print(4*2)\n",
    "\n",
    "#Divides 2 numbers to give an output of 8\n",
    "print(16/2)"
   ]
  },
  {
   "cell_type": "markdown",
   "id": "222f04bb-f6d4-4ba8-abd0-147de8578455",
   "metadata": {},
   "source": [
    "**7.  Store your favourite number in a variable. Then, using that variable, create a message that reveals your favourite number. Print that message.**"
   ]
  },
  {
   "cell_type": "code",
   "execution_count": 64,
   "id": "1a01d876-04f1-4367-baf8-567b91a52ad7",
   "metadata": {},
   "outputs": [
    {
     "name": "stdout",
     "output_type": "stream",
     "text": [
      "17 is my favourite number\n"
     ]
    }
   ],
   "source": [
    "num=17\n",
    "print(str(num) + \" is my favourite number\")"
   ]
  },
  {
   "cell_type": "markdown",
   "id": "ac8f80ef-ae3b-4bfc-b81b-25b2096bd2c6",
   "metadata": {},
   "source": [
    "**8. Choose two of the programs you’ve written and add at least one comment to each. If you don’t have anything specific to write because your programs are too simple at this point, just add your name and the current date at the\n",
    "top of each program file. Then write one sentence describing what the program does**"
   ]
  },
  {
   "cell_type": "raw",
   "id": "75742e1c-696d-4008-a7f1-3de634d4420b",
   "metadata": {},
   "source": [
    "#Code Comments added for program 5 and 6"
   ]
  },
  {
   "cell_type": "markdown",
   "id": "54497adc-7c58-4909-901d-acb7c5c3b1a5",
   "metadata": {},
   "source": [
    "**9. Store the names of a few of your friends in a list called names. \n",
    "Print each person’s name by accessing each element in the list, one at a time.**"
   ]
  },
  {
   "cell_type": "code",
   "execution_count": 68,
   "id": "6c0a9880-7f91-48bf-a9e6-a7dbf6eca88e",
   "metadata": {},
   "outputs": [
    {
     "name": "stdout",
     "output_type": "stream",
     "text": [
      "Shruthi\n",
      "Shwetha\n",
      "Kristine\n"
     ]
    }
   ],
   "source": [
    "names =['Shruthi','Shwetha','Kristine']\n",
    "for i in names:\n",
    "    print(i)"
   ]
  },
  {
   "cell_type": "markdown",
   "id": "94d40065-d80a-43e2-ba4d-7437e362c5ed",
   "metadata": {},
   "source": [
    "**For Loop with Enumurate function**"
   ]
  },
  {
   "cell_type": "code",
   "execution_count": 94,
   "id": "c2682edf-e5df-4918-88fb-63637d35e4bc",
   "metadata": {},
   "outputs": [
    {
     "name": "stdout",
     "output_type": "stream",
     "text": [
      "0 Shruthi\n",
      "1 Shwetha\n",
      "2 Kristine\n",
      "-------------------------------\n",
      "index 0 : Abc\n",
      "index 1 : Xyz\n",
      "index 2 : Pqr\n"
     ]
    }
   ],
   "source": [
    "names =['Shruthi','Shwetha','Kristine']\n",
    "for i,name in enumerate(names):\n",
    "    print(i,name)\n",
    "print(\"-------------------------------\")\n",
    "names2 = ['Abc','Xyz','Pqr']\n",
    "for j,name2 in enumerate(names2):\n",
    "  print(f\"index {j} : {name2}\")\n",
    "\n",
    "   "
   ]
  },
  {
   "cell_type": "markdown",
   "id": "9576c305-e70f-4482-8486-52f5c2bd2fd0",
   "metadata": {},
   "source": [
    "**10. Start with the list you used in Exercise 9, but instead of just printing each person’s name, print a message to them. The text of each message should be the same, but each message should be personalized with the person’s name.**\n"
   ]
  },
  {
   "cell_type": "code",
   "execution_count": 100,
   "id": "17003c6c-7108-4f08-bbb0-547332bf0f4c",
   "metadata": {},
   "outputs": [
    {
     "name": "stdout",
     "output_type": "stream",
     "text": [
      "Hello SHRUTHI, Welcome to Python Totorial!\n",
      "Hello SHWETHA, Welcome to Python Totorial!\n",
      "Hello SWAROOP, Welcome to Python Totorial!\n"
     ]
    }
   ],
   "source": [
    "names =['SHRUTHI','SHWETHA','SWAROOP']\n",
    "for i in names:\n",
    "    print(\"Hello \" + i + \", Welcome to Python Totorial!\")"
   ]
  },
  {
   "cell_type": "markdown",
   "id": "934be64c-5ca9-4969-a541-325e6faf92a8",
   "metadata": {},
   "source": [
    "**11. Think of your favourite mode of transportation, such as a motorcycle or a car, and make a list that stores several examples. Use your list to print a series of statements about these items, such as “I would like to own a Honda motorcycle.”**\n"
   ]
  },
  {
   "cell_type": "code",
   "execution_count": 105,
   "id": "cc6a99b5-feb8-44ff-a55a-8926c662d58e",
   "metadata": {},
   "outputs": [
    {
     "name": "stdout",
     "output_type": "stream",
     "text": [
      "Currently, I own a Toyota Venza\n",
      "My Husband would like to have Lexus RX as his next car\n",
      "I would like to own Tesla in the future\n"
     ]
    }
   ],
   "source": [
    "cars = [\"Toyota Venza\", \"Lexus RX\", \"Tesla\"]\n",
    "print(\"Currently, I own a \" + cars[0])\n",
    "print (\"My Husband would like to have \" + cars[1] + \" as his next car\")\n",
    "print (\"I would like to own \" + cars[2] + \" in the future\")"
   ]
  },
  {
   "cell_type": "code",
   "execution_count": null,
   "id": "4e11304c-b8d9-4934-8f37-6f7fbeeb3595",
   "metadata": {},
   "outputs": [],
   "source": []
  }
 ],
 "metadata": {
  "kernelspec": {
   "display_name": "Python 3 (ipykernel)",
   "language": "python",
   "name": "python3"
  },
  "language_info": {
   "codemirror_mode": {
    "name": "ipython",
    "version": 3
   },
   "file_extension": ".py",
   "mimetype": "text/x-python",
   "name": "python",
   "nbconvert_exporter": "python",
   "pygments_lexer": "ipython3",
   "version": "3.12.7"
  }
 },
 "nbformat": 4,
 "nbformat_minor": 5
}
